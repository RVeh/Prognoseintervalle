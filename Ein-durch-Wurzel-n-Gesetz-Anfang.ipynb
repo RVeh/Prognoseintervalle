{
 "cells": [
  {
   "cell_type": "code",
   "execution_count": 1,
   "id": "3b1a7331-3ba2-409f-bbbf-0efc642205a6",
   "metadata": {},
   "outputs": [
    {
     "data": {
      "application/vnd.jupyter.widget-view+json": {
       "model_id": "a635465c87c341589982f246226923e5",
       "version_major": 2,
       "version_minor": 0
      },
      "text/plain": [
       "interactive(children=(IntSlider(value=100, description='n', max=1000, min=5), FloatSlider(value=0.5, descripti…"
      ]
     },
     "metadata": {},
     "output_type": "display_data"
    },
    {
     "data": {
      "text/plain": [
       "<function __main__.gdgz_simulation(n, p)>"
      ]
     },
     "execution_count": 1,
     "metadata": {},
     "output_type": "execute_result"
    }
   ],
   "source": [
    "import numpy as np\n",
    "import matplotlib.pyplot as plt\n",
    "from ipywidgets import interact, FloatSlider, IntSlider\n",
    "\n",
    "def gdgz_simulation(n, p):\n",
    "    results = np.random.binomial(1, p, n)\n",
    "    relative_freq = np.cumsum(results) / np.arange(1, n + 1)\n",
    "\n",
    "    plt.figure(figsize=(10, 5))\n",
    "    plt.plot(relative_freq, label=\"Relative Häufigkeit\")\n",
    "    plt.axhline(y=p, color=\"red\", linestyle=\"--\",\n",
    "                label=f\"Wahrer Wert (p={p})\")\n",
    "    plt.xlabel(\"Anzahl der Versuche\",fontsize=14)\n",
    "    plt.ylabel(\"Relative Häufigkeit\",fontsize=14)\n",
    "    plt.title(\"Gesetz der großen Zahlen\",fontsize=14)\n",
    "    plt.ylim(-0.1,1.1)\n",
    "    plt.legend()\n",
    "    plt.grid()\n",
    "    plt.show()\n",
    "\n",
    "interact(gdgz_simulation, \n",
    "         n=IntSlider(value=100, min=5, max=1000, step=1, description='n'), \n",
    "         p=FloatSlider(value=0.5, min=0.01, max=0.99, step=0.01, description='p') \n",
    "         )"
   ]
  },
  {
   "cell_type": "code",
   "execution_count": null,
   "id": "ebb30c26-95bc-4e06-9665-b019e013aa06",
   "metadata": {},
   "outputs": [],
   "source": []
  }
 ],
 "metadata": {
  "kernelspec": {
   "display_name": "Python 3 (ipykernel)",
   "language": "python",
   "name": "python3"
  },
  "language_info": {
   "codemirror_mode": {
    "name": "ipython",
    "version": 3
   },
   "file_extension": ".py",
   "mimetype": "text/x-python",
   "name": "python",
   "nbconvert_exporter": "python",
   "pygments_lexer": "ipython3",
   "version": "3.9.7"
  }
 },
 "nbformat": 4,
 "nbformat_minor": 5
}
