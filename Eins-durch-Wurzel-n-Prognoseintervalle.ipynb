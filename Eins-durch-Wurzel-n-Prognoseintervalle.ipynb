{
 "cells": [
  {
   "cell_type": "code",
   "execution_count": 1,
   "id": "318d3d75-a259-4032-a025-fd5f2cc5e1b7",
   "metadata": {},
   "outputs": [
    {
     "data": {
      "application/vnd.jupyter.widget-view+json": {
       "model_id": "99b5761f54c04139a2a80c9bda3bd7f9",
       "version_major": 2,
       "version_minor": 0
      },
      "text/plain": [
       "interactive(children=(IntSlider(value=400, description='n', max=1000, min=10, step=10), FloatSlider(value=0.5,…"
      ]
     },
     "metadata": {},
     "output_type": "display_data"
    },
    {
     "data": {
      "text/plain": [
       "<function __main__.relative_frequency_simulation(n, p, w, dx)>"
      ]
     },
     "execution_count": 1,
     "metadata": {},
     "output_type": "execute_result"
    }
   ],
   "source": [
    "import numpy as np\n",
    "import matplotlib.pyplot as plt\n",
    "from ipywidgets import interact, IntSlider, FloatSlider\n",
    "\n",
    "def relative_frequency_simulation(n, p, w, dx):\n",
    "    trials = np.random.binomial(1, p, n)\n",
    "    cumulative_frequencies = np.cumsum(trials) / np.arange(1, n+1)\n",
    "    \n",
    "    x = np.arange(1, n+1)\n",
    "    bound = 2 * np.sqrt(p * (1 - p) / x)\n",
    "    \n",
    "    fig = plt.subplots(figsize=(12, 8))\n",
    "    \n",
    "    # Hauptplot (Trajektorie)\n",
    "    plt.plot(x, cumulative_frequencies, label='Relative Häufigkeit', color='black')\n",
    "    plt.axhline(y=p, color='red', linestyle='--', label=f'p = {p}')\n",
    "    plt.plot(x, p + bound, color='orange', linestyle='--',\n",
    "             label=r'$p \\pm 2\\sqrt{\\frac{p \\cdot(1-p)}{n}}$')\n",
    "    plt.plot(x, p - bound, color='orange', linestyle='--')\n",
    "    plt.xlabel('Stichprobenumfang n',fontsize=14)\n",
    "    plt.ylabel('Relative Häufigkeit',fontsize=14)\n",
    "    plt.title(r'Das 1/$\\sqrt{n}$-Gesetz der großen Zahlen und Prognoseintervalle',\n",
    "              fontsize=14)\n",
    "    plt.xlim(-50,1.15*n)\n",
    "    plt.ylim(-0.1,1.1)\n",
    "    plt.legend(fontsize=12)\n",
    "    plt.xticks(fontsize=12)\n",
    "    plt.yticks(fontsize=12)\n",
    "    plt.grid()\n",
    "    \n",
    "    sample_points = [n, n // 4, n // 16]\n",
    "    colors = ['blue', 'green', 'purple']\n",
    "\n",
    "    for idx, point in enumerate(sample_points):\n",
    "        simulated_values = np.random.binomial(point, p, w) / point\n",
    "        values, counts = np.unique(simulated_values, return_counts=True)\n",
    "        for value, count in zip(values, counts):\n",
    "            x_positions=[point+i*dx for i in range(0,count)]\n",
    "            y_positions = [value] * count\n",
    "            plt.scatter(x_positions, y_positions, s=8, alpha=0.5, color=colors[idx])\n",
    "\n",
    "        in_interval = ((simulated_values >= p - 2 * np.sqrt(p * (1 - p) / point)) &\n",
    "                       (simulated_values <= p + 2 * np.sqrt(p * (1 - p) / point))).sum()\n",
    "        plt.text(point, p + 5 * np.sqrt(p * (1 - p) / point),\n",
    "                 f'{in_interval} von {w}\\ninnerhalb des Intervalls', ha='center',\n",
    "                 fontsize=10, bbox=dict(facecolor='white', alpha=0.5))\n",
    "\n",
    "    plt.show()\n",
    "\n",
    "nWert=400\n",
    "interact(relative_frequency_simulation, \n",
    "         n=IntSlider(min=10, max=1000, step=10, value=nWert, description='n'),\n",
    "         p=FloatSlider(min=0.1, max=0.9, step=0.05, value=0.5, description='p'),\n",
    "         w=IntSlider(min=10, max=1000, step=10, value=100, description='w'),\n",
    "         dx=IntSlider(min=0, max=50, step=1, value=0, description='dx')\n",
    "    )"
   ]
  },
  {
   "cell_type": "code",
   "execution_count": null,
   "id": "150d091f-e103-43a7-8179-44eea6d5b9d3",
   "metadata": {},
   "outputs": [],
   "source": []
  }
 ],
 "metadata": {
  "kernelspec": {
   "display_name": "Python 3 (ipykernel)",
   "language": "python",
   "name": "python3"
  },
  "language_info": {
   "codemirror_mode": {
    "name": "ipython",
    "version": 3
   },
   "file_extension": ".py",
   "mimetype": "text/x-python",
   "name": "python",
   "nbconvert_exporter": "python",
   "pygments_lexer": "ipython3",
   "version": "3.9.7"
  }
 },
 "nbformat": 4,
 "nbformat_minor": 5
}
