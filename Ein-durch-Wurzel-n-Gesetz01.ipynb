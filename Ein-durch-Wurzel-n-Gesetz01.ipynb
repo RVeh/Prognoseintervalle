{
 "cells": [
  {
   "cell_type": "code",
   "execution_count": 1,
   "id": "26f90f64-9521-4dac-8fea-3c9058a199c7",
   "metadata": {},
   "outputs": [
    {
     "data": {
      "application/vnd.jupyter.widget-view+json": {
       "model_id": "263edeed46bf40ff80ed9aa091fa68a4",
       "version_major": 2,
       "version_minor": 0
      },
      "text/plain": [
       "interactive(children=(IntSlider(value=400, description='n', max=1000, min=10, step=10), FloatSlider(value=0.5,…"
      ]
     },
     "metadata": {},
     "output_type": "display_data"
    },
    {
     "data": {
      "text/plain": [
       "<function __main__.relative_frequency_simulation(n, p, w)>"
      ]
     },
     "execution_count": 1,
     "metadata": {},
     "output_type": "execute_result"
    }
   ],
   "source": [
    "import numpy as np\n",
    "import matplotlib.pyplot as plt\n",
    "from ipywidgets import interact, IntSlider, FloatSlider\n",
    "\n",
    "def relative_frequency_simulation(n, p, w):\n",
    "    np.random.seed(42)\n",
    "    trials = np.random.binomial(1, p, n)\n",
    "    cumulative_frequencies = np.cumsum(trials) / np.arange(1, n+1)\n",
    "    \n",
    "    x = np.arange(1, n+1)\n",
    "    bound = 2 * np.sqrt(p * (1 - p) / x)\n",
    "    \n",
    "    plt.figure(figsize=(10, 6))\n",
    "    plt.plot(x, cumulative_frequencies, label=f'h', color='black')\n",
    "    plt.axhline(y=p, color='red', linestyle='--', label=f'p = {p}')\n",
    "    plt.plot(x, p + bound, color='orange', label=r'$p \\pm 2 \\cdot \\sqrt{\\frac{p(1-p)}{n}}$')\n",
    "    plt.plot(x, p - bound, color='orange')\n",
    "    \n",
    "    sample_points = [n, n // 4, n // 16]\n",
    "    for point in sample_points:\n",
    "        yWert=(p+2 * np.sqrt(p * (1 - p) / point))*1.1\n",
    "        simulated_values = np.random.binomial(point, p, w) / point\n",
    "        plt.scatter([point] * w, simulated_values, color='blue', alpha=0.5, s=10)\n",
    "        in_interval = ((simulated_values >= p - 2 * np.sqrt(p * (1 - p) / point)) &\n",
    "                       (simulated_values <= p + 2 * np.sqrt(p * (1 - p) / point))).sum()\n",
    "        plt.text(point-25, yWert,\n",
    "                 fr' {in_interval} von {w}', fontsize=10, verticalalignment='bottom')\n",
    "    \n",
    "    plt.xlabel('Stichprobenumfang n',fontsize=16)\n",
    "    plt.ylabel('relative Häufigkeit',fontsize=16)\n",
    "    plt.title(r'Das 1/$\\sqrt{n}$ - Gesetz',fontsize=16)\n",
    "    plt.legend(fontsize=12)\n",
    "    plt.grid()\n",
    "    plt.xlim(-25,n+25)\n",
    "    plt.show()\n",
    "\n",
    "interact(relative_frequency_simulation, \n",
    "         n=IntSlider(min=10, max=1000, step=10, value=400, description='n'),\n",
    "         p=FloatSlider(min=0.1, max=0.9, step=0.05, value=0.5, description='p'),\n",
    "         w=IntSlider(min=10, max=500, step=10, value=100, description='w'))\n"
   ]
  },
  {
   "cell_type": "code",
   "execution_count": null,
   "id": "e43c2f43-6ae4-4ef1-b78b-96358a097c44",
   "metadata": {},
   "outputs": [],
   "source": []
  }
 ],
 "metadata": {
  "kernelspec": {
   "display_name": "Python 3 (ipykernel)",
   "language": "python",
   "name": "python3"
  },
  "language_info": {
   "codemirror_mode": {
    "name": "ipython",
    "version": 3
   },
   "file_extension": ".py",
   "mimetype": "text/x-python",
   "name": "python",
   "nbconvert_exporter": "python",
   "pygments_lexer": "ipython3",
   "version": "3.9.7"
  }
 },
 "nbformat": 4,
 "nbformat_minor": 5
}
